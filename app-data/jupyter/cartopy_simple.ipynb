{
 "cells": [
  {
   "cell_type": "markdown",
   "metadata": {},
   "source": [
    "Cartopy Demo in IPython Notebook\n",
    "==================================\n",
    "\n",
    "*Author: Brian M Hamlin - 'darkblue_b'*\n",
    "\n",
    "* Import a netCDF world weather history from OSGeo Live sample data sets.\n",
    "* Plot one day using various mapping projections\n",
    "\n"
   ]
  },
  {
   "cell_type": "code",
   "execution_count": null,
   "metadata": {
    "collapsed": false
   },
   "outputs": [],
   "source": [
    "from netCDF4 import Dataset\n",
    "import numpy as np"
   ]
  },
  {
   "cell_type": "code",
   "execution_count": null,
   "metadata": {
    "collapsed": false
   },
   "outputs": [],
   "source": [
    "my_example_nc_file = '/home/user/data/netcdf/txxETCCDI_yr_MIROC5_historical_r2i1p1_1850-2012.nc'\n",
    "fh = Dataset(my_example_nc_file, mode='r')"
   ]
  },
  {
   "cell_type": "code",
   "execution_count": null,
   "metadata": {
    "collapsed": false
   },
   "outputs": [],
   "source": [
    "lons = fh.variables['lon'][:]\n",
    "lats = fh.variables['lat'][:]\n",
    "tmax = fh.variables['txxETCCDI'][:]\n",
    "\n",
    "tmax_units = fh.variables['txxETCCDI'].units\n",
    "fh.close()"
   ]
  },
  {
   "cell_type": "markdown",
   "metadata": {},
   "source": [
    "Import Cartopy, Display Example Maps\n",
    "-------------------------------------\n",
    "* some examples will display warnings, software under construction!\n",
    "* note: you need a working Internet connection to get more natural_earth display sizes\n"
   ]
  },
  {
   "cell_type": "code",
   "execution_count": null,
   "metadata": {
    "collapsed": false
   },
   "outputs": [],
   "source": [
    "%matplotlib inline\n",
    "import matplotlib.pyplot as plt\n",
    "import cartopy.crs as ccrs\n"
   ]
  },
  {
   "cell_type": "code",
   "execution_count": null,
   "metadata": {
    "collapsed": false
   },
   "outputs": [],
   "source": [
    "ax = plt.axes(projection=ccrs.Mollweide())\n",
    "ax.contourf(  lons, lats, tmax[1],\n",
    "                transform=ccrs.PlateCarree(),\n",
    "                cmap='spectral')\n",
    "ax.coastlines()\n",
    "ax.set_global()\n",
    "plt.show()"
   ]
  },
  {
   "cell_type": "code",
   "execution_count": null,
   "metadata": {
    "collapsed": false
   },
   "outputs": [],
   "source": [
    "ax = plt.axes(projection=ccrs.Robinson())\n",
    "ax.contourf(  lons, lats, tmax[1],\n",
    "                transform=ccrs.PlateCarree(),\n",
    "                cmap='spectral')\n",
    "ax.coastlines()\n",
    "ax.set_global()\n",
    "plt.show()"
   ]
  },
  {
   "cell_type": "code",
   "execution_count": null,
   "metadata": {
    "collapsed": false
   },
   "outputs": [],
   "source": [
    "ax = plt.axes(projection=ccrs.GOOGLE_MERCATOR)\n",
    "ax.contourf(  lons, lats, tmax[1],\n",
    "                transform=ccrs.PlateCarree(),\n",
    "                cmap='spectral')\n",
    "ax.coastlines()\n",
    "ax.set_global()\n",
    "plt.show()"
   ]
  },
  {
   "cell_type": "code",
   "execution_count": null,
   "metadata": {
    "collapsed": false
   },
   "outputs": [],
   "source": [
    "ax = plt.axes(projection=ccrs.NorthPolarStereo())\n",
    "ax.contourf(  lons, lats, tmax[1],\n",
    "                transform=ccrs.PlateCarree(),\n",
    "                cmap='spectral')\n",
    "ax.coastlines()\n",
    "ax.set_global()\n",
    "plt.show()"
   ]
  },
  {
   "cell_type": "code",
   "execution_count": null,
   "metadata": {
    "collapsed": false
   },
   "outputs": [],
   "source": [
    "ax = plt.axes(projection=ccrs.Miller())\n",
    "ax.contourf(  lons, lats, tmax[1],\n",
    "                transform=ccrs.PlateCarree(),\n",
    "                cmap='spectral')\n",
    "ax.coastlines()\n",
    "ax.set_global()\n",
    "plt.show()"
   ]
  },
  {
   "cell_type": "code",
   "execution_count": null,
   "metadata": {
    "collapsed": false
   },
   "outputs": [],
   "source": [
    "ax = plt.axes(projection=ccrs.EuroPP())\n",
    "ax.contourf(  lons, lats, tmax[1],\n",
    "                transform=ccrs.PlateCarree(),\n",
    "                cmap='spectral')\n",
    "ax.coastlines()\n",
    "ax.set_global()\n",
    "plt.show()"
   ]
  },
  {
   "cell_type": "code",
   "execution_count": null,
   "metadata": {
    "collapsed": false
   },
   "outputs": [],
   "source": [
    "ax = plt.axes(projection=ccrs.LambertCylindrical () )\n",
    "ax.contourf(  lons, lats, tmax[1],\n",
    "                transform=ccrs.PlateCarree(),\n",
    "                cmap='spectral')\n",
    "ax.coastlines()\n",
    "ax.set_global()\n",
    "plt.show()"
   ]
  },
  {
   "cell_type": "code",
   "execution_count": null,
   "metadata": {
    "collapsed": false
   },
   "outputs": [],
   "source": [
    "ax = plt.axes(projection=ccrs.TransverseMercator())\n",
    "ax.contourf(  lons, lats, tmax[1],\n",
    "                transform=ccrs.PlateCarree(),\n",
    "                cmap='spectral')\n",
    "ax.coastlines()\n",
    "ax.set_global()\n",
    "plt.show()"
   ]
  },
  {
   "cell_type": "code",
   "execution_count": null,
   "metadata": {
    "collapsed": false
   },
   "outputs": [],
   "source": []
  }
 ],
 "metadata": {
  "kernelspec": {
   "display_name": "Python 2",
   "language": "python",
   "name": "python2"
  },
  "language_info": {
   "codemirror_mode": {
    "name": "ipython",
    "version": 2
   },
   "file_extension": ".py",
   "mimetype": "text/x-python",
   "name": "python",
   "nbconvert_exporter": "python",
   "pygments_lexer": "ipython2",
   "version": "2.7.6"
  }
 },
 "nbformat": 4,
 "nbformat_minor": 0
}
